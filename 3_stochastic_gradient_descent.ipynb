{
 "cells": [
  {
   "cell_type": "code",
   "execution_count": 49,
   "metadata": {},
   "outputs": [],
   "source": [
    "import base64"
   ]
  },
  {
   "attachments": {},
   "cell_type": "markdown",
   "metadata": {},
   "source": [
    "# PyTorch\n",
    "\n",
    "To more conveniently use arrays in Python, we will use the PyTorch numerical computing framework. To install it, go to https://pytorch.org/get-started and follow the instructions for your system. Once we have PyTorch installed, we import `torch` to use PyTorch."
   ]
  },
  {
   "cell_type": "code",
   "execution_count": 1,
   "metadata": {},
   "outputs": [
    {
     "name": "stdout",
     "output_type": "stream",
     "text": [
      "Intel MKL WARNING: Support of Intel(R) Streaming SIMD Extensions 4.2 (Intel(R) SSE4.2) enabled only processors has been deprecated. Intel oneAPI Math Kernel Library 2025.0 will require Intel(R) Advanced Vector Extensions (Intel(R) AVX) instructions.\n",
      "Intel MKL WARNING: Support of Intel(R) Streaming SIMD Extensions 4.2 (Intel(R) SSE4.2) enabled only processors has been deprecated. Intel oneAPI Math Kernel Library 2025.0 will require Intel(R) Advanced Vector Extensions (Intel(R) AVX) instructions.\n"
     ]
    }
   ],
   "source": [
    "import torch\n",
    "import torch.utils.data as data"
   ]
  },
  {
   "cell_type": "code",
   "execution_count": 8,
   "metadata": {},
   "outputs": [
    {
     "name": "stdout",
     "output_type": "stream",
     "text": [
      "tensor([[14, 14],\n",
      "        [ 4,  1]])\n",
      "tensor([[14, 14],\n",
      "        [ 1, -5]])\n"
     ]
    }
   ],
   "source": [
    "a = torch.tensor([[8, 4], [-2, -9]])\n",
    "# if I have only one dimension, I use this one to add both rows of a\n",
    "b = torch.tensor([6, 10])\n",
    "# regular element-wise addition\n",
    "c = torch.tensor([[6, 10], [3,4]])\n",
    "print(a + b)\n",
    "print(a + c)"
   ]
  },
  {
   "cell_type": "code",
   "execution_count": 5,
   "metadata": {},
   "outputs": [
    {
     "name": "stdout",
     "output_type": "stream",
     "text": [
      "tensor([ 6, 10])\n",
      "tensor([[ 6],\n",
      "        [10]])\n",
      "tensor([[14, 10],\n",
      "        [ 8,  1]])\n",
      "torch.Size([2])\n",
      "torch.Size([2, 2])\n"
     ]
    }
   ],
   "source": [
    "a = torch.tensor([[8, 4], [-2, -9]])\n",
    "b = torch.tensor([6, 10])\n",
    "print(b)\n",
    "print(b[:, None]) # this returns \n",
    "#tensor([[ 6],\n",
    "#        [10]])\n",
    "# 2 rows 1 col\n",
    "# None adds one dimension-axis\n",
    "# Now I have 2 rows 1 col\n",
    "# So I use the element from the first row to add both elements of the first row of a \n",
    "# and the first element of the 2nd row to add both elements of the second row of a.\n",
    "print(a + b[:, None])\n",
    "print(b.shape) # torch.Size([2]) (meaning it has only one dimension and 2 elements in that dimension)\n",
    "print(a.shape) # torch.Size([2, 2]) meaning it has two dimensions and 2 elements per dimension\n",
    "\n",
    "#The first element of the tuple, 2, represents the size of the tensor along the first dimension (number of rows), \n",
    "#and the second element, 3, represents the size of the tensor along the second dimension (number of columns).\n",
    "\n",
    "#So, the output of print(a.shape) will be (2, 3).\n",
    "\n",
    "#You can also access individual elements of the shape tuple using indexing. For example, a.shape[0] gives the size of \n",
    "#the tensor along the first dimension, and a.shape[1] gives the size along the second dimension."
   ]
  },
  {
   "attachments": {},
   "cell_type": "markdown",
   "metadata": {},
   "source": [
    "Install the following if necessary.\n",
    "* `matplotlib` for plotting. Install it using `pip install matplotlib`. Or `conda install matplotlib` if you prefer.\n",
    "* `tqdm` has a stupid name but provides a nice progress bar. `pip install tqdm`"
   ]
  },
  {
   "cell_type": "code",
   "execution_count": 12,
   "metadata": {},
   "outputs": [],
   "source": [
    "import matplotlib.pyplot as plt\n",
    "import tqdm\n",
    "from tqdm import tqdm\n",
    "import time\n"
   ]
  },
  {
   "cell_type": "code",
   "execution_count": 14,
   "metadata": {},
   "outputs": [
    {
     "name": "stderr",
     "output_type": "stream",
     "text": [
      "100%|██████████| 10/10 [00:05<00:00,  1.98it/s]\n"
     ]
    }
   ],
   "source": [
    "\n",
    "for i in tqdm(range(10)):\n",
    "    time.sleep(0.5)\n",
    "\n",
    "# I was initially getting this error\n",
    "#TypeError                                 Traceback (most recent call last)\n",
    "#Cell In[11], line 1\n",
    "#----> 1 for i in tqdm(range(10)):\n",
    "#      2     time.sleep(0.5)\n",
    "\n",
    "#TypeError: 'module' object is not callable\n",
    "\n",
    "#The error you encountered, 'module' object is not callable, suggests that you might have a naming conflict or have \n",
    "# imported the wrong module.\n",
    "\n",
    "# In this case, it seems like you have imported the tqdm module itself INSTEAD OF THE tqdm FUNCTION FROM THE MODULE.\n",
    "# The error message indicates that you are trying to use tqdm as a callable, which is not possible when it refers to \n",
    "# the module object.\n",
    "\n",
    "# solution: from tqdm import tqdm"
   ]
  },
  {
   "attachments": {},
   "cell_type": "markdown",
   "metadata": {},
   "source": [
    "## Messing with Tensors"
   ]
  },
  {
   "attachments": {},
   "cell_type": "markdown",
   "metadata": {},
   "source": [
    "The most important data structure in PyTorch is the `Tensor`, which is an array of numbers, all of the same type, usually some kind of floating-point number. In the machine learning community, such arrays are often called *tensors*, even when they aren't being used to represent mathematical [tensors](https://en.wikipedia.org/wiki/Tensor), which are linear maps."
   ]
  },
  {
   "attachments": {},
   "cell_type": "markdown",
   "metadata": {},
   "source": [
    "You can create `Tensor`s by passing in Python `tuple`s or `list`s to the `tensor` function."
   ]
  },
  {
   "cell_type": "code",
   "execution_count": 24,
   "metadata": {},
   "outputs": [],
   "source": [
    "a = torch.tensor((1, 2, 3, 4))\n",
    "b = torch.tensor((( 5,  6,  7,  8),\n",
    "                  (-5, -6, -7, -8)))\n",
    "c = torch.tensor([[1],\n",
    "                  [2]])\n",
    "\n",
    "# In the statement a = torch.tensor((1, 2, 3, 4)), torch represents the module, while tensor is a factory function or \n",
    "# constructor within the torch module.\n",
    "\n",
    "# In PyTorch, torch is the top-level package for the PyTorch library. It provides a variety of functionality for tensor \n",
    "# computations, neural networks, and other machine learning operations.\n",
    "\n",
    "# The tensor function is one of the many functions provided by the torch module. It is used to create a new tensor object. \n",
    "# In the given example, the torch.tensor() function is called with (1, 2, 3, 4) as its argument, which creates a new \n",
    "# tensor object a with the values (1, 2, 3, 4)."
   ]
  },
  {
   "attachments": {},
   "cell_type": "markdown",
   "metadata": {},
   "source": [
    "All `Tensor`s have `shape`s. Here are their shapes."
   ]
  },
  {
   "cell_type": "code",
   "execution_count": 16,
   "metadata": {},
   "outputs": [
    {
     "data": {
      "text/plain": [
       "(torch.Size([4]), torch.Size([2, 4]))"
      ]
     },
     "execution_count": 16,
     "metadata": {},
     "output_type": "execute_result"
    }
   ],
   "source": [
    "a.shape, b.shape"
   ]
  },
  {
   "attachments": {},
   "cell_type": "markdown",
   "metadata": {},
   "source": [
    "You can add, subtract, and negate `Tensor`s using + and -."
   ]
  },
  {
   "cell_type": "code",
   "execution_count": 17,
   "metadata": {},
   "outputs": [
    {
     "data": {
      "text/plain": [
       "(tensor([2, 4, 6, 8]), tensor([0, 0, 0, 0]))"
      ]
     },
     "execution_count": 17,
     "metadata": {},
     "output_type": "execute_result"
    }
   ],
   "source": [
    "a + a, a - a"
   ]
  },
  {
   "attachments": {},
   "cell_type": "markdown",
   "metadata": {},
   "source": [
    "Broadcasting is applied automatically where it's unambiguous. (Read the 2_math_review notebook if you are unsure what broadcasting does.)"
   ]
  },
  {
   "cell_type": "code",
   "execution_count": 18,
   "metadata": {},
   "outputs": [
    {
     "data": {
      "text/plain": [
       "tensor([[ 6,  8, 10, 12],\n",
       "        [-4, -4, -4, -4]])"
      ]
     },
     "execution_count": 18,
     "metadata": {},
     "output_type": "execute_result"
    }
   ],
   "source": [
    "a + b\n",
    "# we add the a row to each of the 2 b rows (col by col)"
   ]
  },
  {
   "attachments": {},
   "cell_type": "markdown",
   "metadata": {},
   "source": [
    "Matrix multiplication can be done using the `@` operator."
   ]
  },
  {
   "cell_type": "code",
   "execution_count": 19,
   "metadata": {},
   "outputs": [
    {
     "data": {
      "text/plain": [
       "tensor([ 70, -70])"
      ]
     },
     "execution_count": 19,
     "metadata": {},
     "output_type": "execute_result"
    }
   ],
   "source": [
    "b @ a"
   ]
  },
  {
   "attachments": {},
   "cell_type": "markdown",
   "metadata": {},
   "source": [
    "Element-wise multiplication is automatically broadcasted."
   ]
  },
  {
   "cell_type": "code",
   "execution_count": 28,
   "metadata": {},
   "outputs": [
    {
     "data": {
      "text/plain": [
       "tensor([[  5,  12,  21,  32],\n",
       "        [ -5, -12, -21, -32]])"
      ]
     },
     "execution_count": 28,
     "metadata": {},
     "output_type": "execute_result"
    }
   ],
   "source": [
    "# Broadcasting depends on the orientation of the vector whether is a column or row vector\n",
    "a * b"
   ]
  },
  {
   "cell_type": "code",
   "execution_count": 27,
   "metadata": {},
   "outputs": [
    {
     "data": {
      "text/plain": [
       "tensor([[  5,   6,   7,   8],\n",
       "        [-10, -12, -14, -16]])"
      ]
     },
     "execution_count": 27,
     "metadata": {},
     "output_type": "execute_result"
    }
   ],
   "source": [
    "c * b"
   ]
  },
  {
   "attachments": {},
   "cell_type": "markdown",
   "metadata": {},
   "source": [
    "You can select elements or slices of `Tensor`s using`[index]`. This `index` can be a variety of things. I'll show you a few examples."
   ]
  },
  {
   "cell_type": "code",
   "execution_count": 29,
   "metadata": {},
   "outputs": [
    {
     "data": {
      "text/plain": [
       "tensor(5)"
      ]
     },
     "execution_count": 29,
     "metadata": {},
     "output_type": "execute_result"
    }
   ],
   "source": [
    "b[0, 0]"
   ]
  },
  {
   "cell_type": "code",
   "execution_count": 30,
   "metadata": {},
   "outputs": [
    {
     "data": {
      "text/plain": [
       "tensor(5)"
      ]
     },
     "execution_count": 30,
     "metadata": {},
     "output_type": "execute_result"
    }
   ],
   "source": [
    "index = (0, 0)\n",
    "b[index]"
   ]
  },
  {
   "cell_type": "code",
   "execution_count": 31,
   "metadata": {},
   "outputs": [
    {
     "data": {
      "text/plain": [
       "tensor([-5, -6, -7, -8])"
      ]
     },
     "execution_count": 31,
     "metadata": {},
     "output_type": "execute_result"
    }
   ],
   "source": [
    "b[1, :] # second row (0 indexed), the whole col"
   ]
  },
  {
   "cell_type": "code",
   "execution_count": 33,
   "metadata": {},
   "outputs": [
    {
     "data": {
      "text/plain": [
       "tensor([ 6, -6])"
      ]
     },
     "execution_count": 33,
     "metadata": {},
     "output_type": "execute_result"
    }
   ],
   "source": [
    "b[:, 1] # all rows, second column"
   ]
  },
  {
   "cell_type": "code",
   "execution_count": 35,
   "metadata": {},
   "outputs": [
    {
     "data": {
      "text/plain": [
       "tensor([[ 5,  6],\n",
       "        [-5, -6]])"
      ]
     },
     "execution_count": 35,
     "metadata": {},
     "output_type": "execute_result"
    }
   ],
   "source": [
    "b[:, :2] # from start till 2 -> :2 ... from 2 till end 2: ..... #0:3:2 from 0 to 3 (exclusive I believe) with setps of 2\n",
    "# all rows, and cols 0 - 1 (2 is exclusive)"
   ]
  },
  {
   "cell_type": "code",
   "execution_count": 36,
   "metadata": {},
   "outputs": [
    {
     "data": {
      "text/plain": [
       "tensor([[ 5,  7],\n",
       "        [-5, -7]])"
      ]
     },
     "execution_count": 36,
     "metadata": {},
     "output_type": "execute_result"
    }
   ],
   "source": [
    "b[:, :3:2] #0:3:2 from 0 to 3 (exclusive I believe) with setps of 2"
   ]
  },
  {
   "cell_type": "code",
   "execution_count": 40,
   "metadata": {},
   "outputs": [
    {
     "data": {
      "text/plain": [
       "tensor([[ 7,  8],\n",
       "        [-7, -8]])"
      ]
     },
     "execution_count": 40,
     "metadata": {},
     "output_type": "execute_result"
    }
   ],
   "source": [
    "b[:, 2:] # all rows and from 2 to end (inclusive) "
   ]
  },
  {
   "attachments": {},
   "cell_type": "markdown",
   "metadata": {},
   "source": [
    "See PyTorch's [Tensor indexing API](https://pytorch.org/cppdocs/notes/tensor_indexing.html) for more examples."
   ]
  },
  {
   "attachments": {},
   "cell_type": "markdown",
   "metadata": {},
   "source": [
    "# Gradient descent\n",
    "\n",
    "Gradient descent is an optimization method that adjusts the parameters of a differentiable function that captures some sort of \"loss,\" or the error of an estimation, in order to optimize it. [Here](https://www.youtube.com/playlist?list=PLZHQObOWTQDNU6R1_67000Dx_ZCJB-3pi) is a nice YouTube playlist about it by 3Blue1Brown. I'll demonstrate it through a regression task. Regression is predicting a real number or real array.\n",
    "\n",
    "Suppose there were some function $f$ that maps real numbers to real numbers. That is, $f: \\mathbb{R} \\to \\mathbb{R}$. Let's make an $f$ that is actually $e^x +$ some random noise."
   ]
  },
  {
   "cell_type": "code",
   "execution_count": 41,
   "metadata": {},
   "outputs": [],
   "source": [
    "def f(x: torch.Tensor) -> torch.Tensor:\n",
    "    # input parameter: instead of data_type param_name is param_name: data_type\n",
    "    \"\"\"\n",
    "    :returns: e^x + some random noise\n",
    "\n",
    "\n",
    "    The notation you provided is a function signature in Python. Let's break it down:\n",
    "\n",
    "    def: This keyword is used to define a function in Python.\n",
    "    f: This is the name of the function.\n",
    "    (x: torch.Tensor): This part specifies the function's input parameter. In this case, the parameter is named x, and \n",
    "    the torch.Tensor indicates the expected type of the parameter. torch.Tensor is a type hint indicating that the \n",
    "    parameter x should be a tensor object from the PyTorch library.\n",
    "    -> torch.Tensor: This part indicates the return type of the function. In this case, the torch.Tensor type hint \n",
    "    suggests that the function will return a tensor object from the PyTorch library.\n",
    "    Overall, this function signature indicates that the function f takes a parameter x of type torch.Tensor and \n",
    "    returns a value of type torch.Tensor.\n",
    "    \"\"\"\n",
    "    return torch.exp(x) + 0.1 * torch.randn(len(x))"
   ]
  },
  {
   "attachments": {},
   "cell_type": "markdown",
   "metadata": {},
   "source": [
    "But let's pretend we don't know what $f$ is. We only see some examples of $x$ mapped to $y$."
   ]
  },
  {
   "cell_type": "code",
   "execution_count": 43,
   "metadata": {},
   "outputs": [
    {
     "data": {
      "image/png": "[encoded data removed]",
      "text/plain": [
       "<Figure size 640x480 with 1 Axes>"
      ]
     },
     "metadata": {},
     "output_type": "display_data"
    }
   ],
   "source": [
    "x = torch.linspace(-1, 1, 100)\n",
    "# In the given example, torch.linspace(-1, 1, 100) creates a tensor x with 100 elements that are linearly \n",
    "# spaced between -1 and 1 (inclusive). The range -1 to 1 is divided into 100 equally spaced points.\n",
    "# So, I have 100 examples in this case. \n",
    "y = f(x)\n",
    "plt.scatter(x, y)\n",
    "plt.show()"
   ]
  },
  {
   "attachments": {},
   "cell_type": "markdown",
   "metadata": {},
   "source": [
    "## Making a trainable function"
   ]
  },
  {
   "attachments": {},
   "cell_type": "markdown",
   "metadata": {},
   "source": [
    "We will attempt to approximate $f$ using a differentiable parameterized function $\\hat{f}$ with much fewer parameters than the number of examples.\n",
    "\n",
    "> Worth discussing with your friends: Why do we want much fewer parameters than the number of examples? \n",
    "\n",
    "#### Is it bc we need to adjust these parameters to fit the data set, so the least parameters we can use to adjust the data set, the better in terms of computing efficiency?.. not really bc we can use multiple threads to make it faster.. \n",
    "\n",
    "We will train parameters $\\theta$ for $\\hat{f}$ to minimize some differentiable loss function $L$ between $\\hat{f}(x)$ and $y$ for all observations $(x, y)$."
   ]
  },
  {
   "attachments": {},
   "cell_type": "markdown",
   "metadata": {},
   "source": [
    "We'll make a function such that we can repeatedly adjust $\\theta$ against the gradient of $L$ with respect to $\\theta$, at some learning rate $\\lambda$. That is,\n",
    "\n",
    "Do $\\quad \\theta \\gets \\theta - \\lambda \\nabla_\\theta L(\\hat{f}(x), y) \\quad$ for all $(x, y)$ repeatedly until it's good enough.\n",
    "\n",
    "Typical artificial neural networks (ANNs) are functions that allow us to do that. Let's make one kind of ANN called a multilayer perceptron (MLP), also called a feedforward neural network, also called a fully connected neural network.\n",
    "\n",
    "For now, let $\\hat{f}$ be an MLP that takes a **single scalar** input $x$ and outputs a number $\\hat{y}$. We will make it handle a batch of inputs later.\n",
    "\n",
    "I'M GUESSING WHAT I DON'T UNDERSTAND IS WHY DO WE NEED TO FOLLOW THESE THREE STEPS TO GET THIS F_HAT FUNCTION (FUNCTION THAT APPROXIMATES THE TARGET)... This is specificially for ANN, you want to introduce non linearlity so that the model can better learn (?) to adjust to the data? or can just better adjust to the data? \n",
    "\n",
    "Here is what will happen inside.\n",
    "1. We apply a linear transformation. (to the scalar input)\n",
    "2. We apply a nonlinear transformation.\n",
    "3. We apply a linear transformation."
   ]
  },
  {
   "attachments": {},
   "cell_type": "markdown",
   "metadata": {},
   "source": [
    "For the **first linear transformation**, we will multiply $x$ by a vector of 4 weights $\\mathbf{W_1}$, and then add a vector of 4 biases $\\mathbf{B_1}$ to that. I've given these parameters the subscript $\\mathbf{_1}$ because they belong to the 1st linear transformation. Both $\\mathbf{W_1}$ and $\\mathbf{B_1}$ will be shaped $4 \\times 1$. Let's call the result $\\mathbf{Z}$.\n",
    "\n",
    "$\\mathbf{Z} = \\mathbf{W_1} x + \\mathbf{B_1}$\n"
   ]
  },
  {
   "attachments": {},
   "cell_type": "markdown",
   "metadata": {},
   "source": [
    "Next, we apply a **nonlinear transformation** to $\\mathbf{z}$. There are many we can choose from, but we usually use the rectified linear unit (ReLU). It's just a function that returns the max of 0 and the input.\n",
    "\n",
    "$\\mathrm{ReLU}(z) = \\max(0, z)$\n",
    "\n",
    "Let's apply it element-wise to $\\mathbf{Z}$ and call the result $\\mathbf{A}$ for \"activation.\"\n",
    "\n",
    "$\\mathbf{A} = \\mathrm{ReLU}(\\mathbf{Z})$\n",
    "\n",
    "Because machine learning (ML) people tend to use brain analogies, 4 elements in $\\mathbf{A}$ are often called *neurons*, i.e. there are 4 neurons in this layer. They're also called *hidden units*."
   ]
  },
  {
   "attachments": {},
   "cell_type": "markdown",
   "metadata": {},
   "source": [
    "Next, we apply the **second linear transformation**. $\\mathbf{A}$ is a $4 \\times 1$ matrix. Since we want a single-element output, we must multiply it by a $1 \\times 4$ matrix $\\mathbf{W_2}$ and then add a $1 \\times 1$ matrix $\\mathbf{B_2}$.\n",
    "\n",
    "$\\hat{y} = \\mathbf{W_2 A} + \\mathbf{B_2}$"
   ]
  },
  {
   "attachments": {},
   "cell_type": "markdown",
   "metadata": {},
   "source": [
    "## Batching"
   ]
  },
  {
   "attachments": {},
   "cell_type": "markdown",
   "metadata": {},
   "source": [
    "Batching is an essential component in modern machine learning because it allows us to train functions quickly by leveraging parallel multiprocessors, i.e. graphics processing units (GPUs)... I'm assuming diff threads run diff batches\n",
    "\n",
    "I NEED TO WRITE DOWN WHAT'S BELOW TO ACTUALLY VISUALIZE IT!!!!"
   ]
  },
  {
   "attachments": {},
   "cell_type": "markdown",
   "metadata": {},
   "source": [
    "Now suppose we want $\\hat{f}$ to take a batch of inputs $\\mathbf{X}$. We need to consider what shape $\\mathbf{X}$ should be. The convention is to make the first dimension the batch dimension, followed by the shape of a single $x$. Since our $x$ is just a single number, our $\\mathbf{X}$ is shaped $(\\mathrm{batch\\ size} \\times 1)$. We also want $\\hat{\\mathbf{Y}}$, the batch of outputs from $\\hat{f}$, to have the batch dimension first."
   ]
  },
  {
   "attachments": {},
   "cell_type": "markdown",
   "metadata": {},
   "source": [
    "To do this, we transpose the $\\mathbf{W}$ s, so that $\\mathbf{W_1}$ is shaped $1 \\times 4$ and $\\mathbf{W_2}$ is shaped $4 \\times 1$."
   ]
  },
  {
   "attachments": {},
   "cell_type": "markdown",
   "metadata": {},
   "source": [
    "Then, we change $\\hat{f}$ thus:\n",
    "> Instead of multiplying $\\mathbf{W_1}x$, we do $\\mathbf{XW_1}$.\n",
    "\n",
    "> Instead of multiplying $\\mathbf{W_2 A}$, we do $\\mathbf{AW_2}$.\n",
    "\n",
    "Then $\\hat{\\mathbf{Y}}$ will be shaped $(\\mathrm{batch\\ size} \\times 1)$. You can ponder about it and work out a few examples until you're convinced."
   ]
  },
  {
   "attachments": {},
   "cell_type": "markdown",
   "metadata": {},
   "source": [
    "## Let's write it."
   ]
  },
  {
   "attachments": {},
   "cell_type": "markdown",
   "metadata": {},
   "source": [
    "First, let's make sure $\\mathbf{X}$ and $\\mathbf{Y}$ are the shape we want."
   ]
  },
  {
   "cell_type": "code",
   "execution_count": 44,
   "metadata": {},
   "outputs": [
    {
     "data": {
      "text/plain": [
       "(torch.Size([100]), torch.Size([100]))"
      ]
     },
     "execution_count": 44,
     "metadata": {},
     "output_type": "execute_result"
    }
   ],
   "source": [
    "x.shape, y.shape"
   ]
  },
  {
   "attachments": {},
   "cell_type": "markdown",
   "metadata": {},
   "source": [
    "Right now they're 1-dimensional arrays. We want to make them 2-dimensional by adding a second dimension of size 1."
   ]
  },
  {
   "cell_type": "code",
   "execution_count": 45,
   "metadata": {},
   "outputs": [],
   "source": [
    "x = x[:, None]\n",
    "y = y[:, None]"
   ]
  },
  {
   "attachments": {},
   "cell_type": "markdown",
   "metadata": {},
   "source": [
    "Now check their shapes."
   ]
  },
  {
   "cell_type": "code",
   "execution_count": 46,
   "metadata": {},
   "outputs": [
    {
     "data": {
      "text/plain": [
       "(torch.Size([100, 1]), torch.Size([100, 1]))"
      ]
     },
     "execution_count": 46,
     "metadata": {},
     "output_type": "execute_result"
    }
   ],
   "source": [
    "x.shape, y.shape"
   ]
  },
  {
   "attachments": {},
   "cell_type": "markdown",
   "metadata": {},
   "source": [
    "We can then write $\\hat{f}$.\n",
    "\n",
    "First, write a linear function that returns $\\mathbf{Z}$ from $x$. It should be about one line of code."
   ]
  },
  {
   "cell_type": "code",
   "execution_count": 47,
   "metadata": {},
   "outputs": [],
   "source": [
    "def linear1(x: torch.Tensor, w1: torch.Tensor, b1: torch.Tensor) -> torch.Tensor:\n",
    "    \"\"\"\n",
    "    :returns: z\n",
    "\n",
    "    I usually write better docstrings, but that would just give you the solution.\n",
    "    \"\"\"\n",
    "    return  x @ w1 + b1 # multiply matrices, then add bias... check the dimensions of the matrices, bias later "
   ]
  },
  {
   "attachments": {},
   "cell_type": "markdown",
   "metadata": {},
   "source": [
    "Uncomment the following cell to see the solution."
   ]
  },
  {
   "cell_type": "code",
   "execution_count": 50,
   "metadata": {},
   "outputs": [
    {
     "data": {
      "text/plain": [
       "'return x @ w1 + b1'"
      ]
     },
     "execution_count": 50,
     "metadata": {},
     "output_type": "execute_result"
    }
   ],
   "source": [
    "base64.b64decode(b'cmV0dXJuIHggQCB3MSArIGIx').decode()"
   ]
  },
  {
   "attachments": {},
   "cell_type": "markdown",
   "metadata": {},
   "source": [
    "Now implement the nonlinear function that returns $\\mathbf{A}$. Take $\\mathbf{Z}$ as input. One line."
   ]
  },
  {
   "cell_type": "code",
   "execution_count": 51,
   "metadata": {},
   "outputs": [],
   "source": [
    "def nonlinear(z: torch.Tensor) -> torch.Tensor:\n",
    "    \"\"\"\n",
    "    :returns: a\n",
    "    \"\"\"\n",
    "    return torch.relu(z)"
   ]
  },
  {
   "cell_type": "code",
   "execution_count": 52,
   "metadata": {},
   "outputs": [
    {
     "data": {
      "text/plain": [
       "'return torch.relu(z)'"
      ]
     },
     "execution_count": 52,
     "metadata": {},
     "output_type": "execute_result"
    }
   ],
   "source": [
    "base64.b64decode(b'cmV0dXJuIHRvcmNoLnJlbHUoeik=').decode()"
   ]
  },
  {
   "attachments": {},
   "cell_type": "markdown",
   "metadata": {},
   "source": [
    "Next, implement the second linear function that returns $\\hat{y}$. Take $\\mathbf{A}$ as input. One line."
   ]
  },
  {
   "cell_type": "code",
   "execution_count": 53,
   "metadata": {},
   "outputs": [],
   "source": [
    "def linear2(a: torch.Tensor, w2: torch.Tensor, b2: torch.Tensor) -> torch.Tensor:\n",
    "    \"\"\"\n",
    "    :returns: y hat\n",
    "    \"\"\"\n",
    "    return a @ w2 + b2 # w2 @ a + b2 or  a @ w2 + b2??????????????????????????????????????????????????? a bc if the explanation above \n",
    "# I want that the first dimension of y_hat has batch_size "
   ]
  },
  {
   "cell_type": "code",
   "execution_count": 54,
   "metadata": {},
   "outputs": [
    {
     "data": {
      "text/plain": [
       "'return a @ w2 + b2'"
      ]
     },
     "execution_count": 54,
     "metadata": {},
     "output_type": "execute_result"
    }
   ],
   "source": [
    "base64.b64decode(b'cmV0dXJuIGEgQCB3MiArIGIy').decode()"
   ]
  },
  {
   "attachments": {},
   "cell_type": "markdown",
   "metadata": {},
   "source": [
    "Finally, write $\\hat{f}$ as a composition of the first linear, the nonlinear, and the second linear functions. Instead of just returning $\\hat{y}$, we're going to also return $\\mathbf{Z}$ and $\\mathbf{A}$ so we can use them to calculate gradients later. This should take about 3 lines of code."
   ]
  },
  {
   "cell_type": "code",
   "execution_count": 55,
   "metadata": {},
   "outputs": [],
   "source": [
    "def f_hat(x: torch.Tensor, \n",
    "          w1: torch.Tensor, \n",
    "          b1: torch.Tensor,\n",
    "          w2: torch.Tensor, \n",
    "          b2: torch.Tensor) -> tuple[torch.Tensor, torch.Tensor, torch.Tensor]:\n",
    "    \"\"\"\n",
    "    :returns: a tuple (z, a, y hat)\n",
    "    \"\"\"\n",
    "    # \n",
    "    z = linear1(x, w1, b1)\n",
    "    a = nonlinear(z)\n",
    "    y_hat = linear2(a, w2, b2)\n",
    "\n",
    "    return z, a, y_hat"
   ]
  },
  {
   "cell_type": "code",
   "execution_count": 56,
   "metadata": {},
   "outputs": [
    {
     "name": "stdout",
     "output_type": "stream",
     "text": [
      "z = linear1(x, w1, b1)\n",
      "a = nonlinear(z)\n",
      "return z, a, linear2(a, w2, b2)\n"
     ]
    }
   ],
   "source": [
    "print(base64.b64decode(b'eiA9IGxpbmVhcjEoeCwgdzEsIGIxKQphID0gbm9ubGluZWFyKHopCnJldHVybiB6LCBhLCBsaW5lYXIyKGEsIHcyLCBiMik=').decode())"
   ]
  },
  {
   "attachments": {},
   "cell_type": "markdown",
   "metadata": {},
   "source": [
    "For our loss function, we can use the mean squared error $L = \\text{MSE}(\\hat{\\mathbf{Y}}, \\mathbf{Y}) = \\dfrac{\\sum_{i=1}^{|\\mathbf{Y}|}(\\hat{\\mathbf{Y}_i} - \\mathbf{Y}_i)^2}{|\\mathbf{Y}|}$. I'll write this one for you."
   ]
  },
  {
   "cell_type": "code",
   "execution_count": 57,
   "metadata": {},
   "outputs": [],
   "source": [
    "def loss(y_hat: torch.Tensor, y: torch.Tensor) -> torch.Tensor:\n",
    "    \"\"\"\n",
    "    :param y_hat: predictions\n",
    "    :param y: labels\n",
    "    :returns: the mean squared error between y_hat and y.\n",
    "\n",
    "\n",
    "\n",
    "    The code you provided calculates the mean squared error (MSE) between the predicted values (y_hat) and the target \n",
    "    values (y). It doesn't require a loop because it operates on tensors, which can perform element-wise operations \n",
    "    efficiently without the need for explicit loops. In this case, y_hat - y calculates the difference between the \n",
    "    predicted values and the target values for each corresponding element in the tensors. \n",
    "    The expression (y_hat - y) ** 2 squares each element-wise difference, and .mean() computes the mean of all \n",
    "    squared differences, giving you the average MSE. By performing these operations directly on tensors, you leverage \n",
    "    the efficiency of tensor operations and can avoid the need for an explicit loop. The calculations are automatically\n",
    "    applied element-wise across the tensors, allowing for faster computation compared to a loop-based implementation.\n",
    "    \"\"\"\n",
    "    return ((y_hat - y) ** 2).mean()"
   ]
  },
  {
   "attachments": {},
   "cell_type": "markdown",
   "metadata": {},
   "source": [
    "To recap,\n",
    "> We wanted a differentiable parameterized function that could approximate $f$. We now have this as $\\hat{f}$.\n",
    "\n",
    "> We also wanted a differentiable function that could capture the error between the output of $\\hat{f}$ and the output of $f$. We now have this as $L$."
   ]
  },
  {
   "attachments": {},
   "cell_type": "markdown",
   "metadata": {},
   "source": [
    "## Backpropagation"
   ]
  },
  {
   "attachments": {},
   "cell_type": "markdown",
   "metadata": {},
   "source": [
    "To know how to adjust the parameters, we must find the gradient of the loss function with respect to each parameter. Once we find that, we just nudge the parameters in a direction that decreases the loss. Because we can step backwards through the operations using the chain rule, this is called *backpropagation*, while applying $\\hat{f}$ is called *forward propagation*."
   ]
  },
  {
   "attachments": {},
   "cell_type": "markdown",
   "metadata": {},
   "source": [
    "Let's find the gradients from the back. In order to go from $L$ to all the parameters, we have to go through $\\hat{y}$. What's $\\nabla_{\\hat{y}} L$?"
   ]
  },
  {
   "cell_type": "code",
   "execution_count": 58,
   "metadata": {},
   "outputs": [
    {
     "name": "stderr",
     "output_type": "stream",
     "text": [
      "<>:7: SyntaxWarning: 'int' object is not callable; perhaps you missed a comma?\n",
      "<>:7: SyntaxWarning: 'int' object is not callable; perhaps you missed a comma?\n",
      "/var/folders/rt/9z20cljs78966f3n2r99gzsw0000gn/T/ipykernel_1501/4274234860.py:7: SyntaxWarning: 'int' object is not callable; perhaps you missed a comma?\n",
      "  return (1/y_hat.shape[0])*2(y_hat - y)\n"
     ]
    }
   ],
   "source": [
    "def d_loss_wrt_y_hat(y_hat: torch.Tensor, y: torch.Tensor) -> torch.Tensor:\n",
    "    \"\"\"\n",
    "    :param y_hat: predictions\n",
    "    :param y: labels\n",
    "    :returns: the derivative of the loss with respect to the predictions.\n",
    "    \"\"\"\n",
    "    return (1/y_hat.shape[0])*2(y_hat - y)\n",
    "# so, the length of y and y_hat is the same??"
   ]
  },
  {
   "cell_type": "code",
   "execution_count": 59,
   "metadata": {},
   "outputs": [
    {
     "data": {
      "text/plain": [
       "'return 2 * (y_hat - y)'"
      ]
     },
     "execution_count": 59,
     "metadata": {},
     "output_type": "execute_result"
    }
   ],
   "source": [
    "base64.b64decode(b'cmV0dXJuIDIgKiAoeV9oYXQgLSB5KQ==').decode()"
   ]
  },
  {
   "attachments": {},
   "cell_type": "markdown",
   "metadata": {},
   "source": [
    "Next, we have the $\\mathbf{W_2}$ and $\\mathbf{B_2}$ in our sights."
   ]
  },
  {
   "cell_type": "code",
   "execution_count": 60,
   "metadata": {},
   "outputs": [],
   "source": [
    "def d_y_hat_wrt_w2(a: torch.Tensor) -> torch.Tensor:\n",
    "    \"\"\"\n",
    "    :param a: output of the nonlinear function\n",
    "    :returns: the derivative of the second linear function with respect to w2.\n",
    "    \"\"\"\n",
    "    # only the derivative of y_hat = AW2+B2 (no the derivative of the cost function when y_hat is the \n",
    "    # aforementioned expression)\n",
    "    return a.sum(0)\n",
    "\n",
    "\n",
    "# The 0 argument passed to sum indicates the dimension along which the summation is performed. In this case, 0 refers \n",
    "# to axis 0, which is the first dimension of a. Therefore, a.sum(0) calculates the sum of elements along axis 0.\n",
    "\n",
    "# The result of a.sum(0) is a tensor that contains the sum of elements along axis 0. The specific shape and size of the \n",
    "# resulting tensor depend on the original shape and size of a.\n",
    "\n",
    "# The returned value of a.sum(0) represents the derivative of the second linear function with respect to w2. \n",
    "# By summing along axis 0, it effectively computes the total effect of the elements of a on the derivative with \n",
    "# respect to w2.\n",
    "\n",
    "def d_y_hat_wrt_b2() -> torch.Tensor:\n",
    "    \"\"\"\n",
    "    :returns: the derivative of the second linear function with respect to b2.\n",
    "    \"\"\"\n",
    "    return 1"
   ]
  },
  {
   "attachments": {},
   "cell_type": "markdown",
   "metadata": {},
   "source": [
    "Although $\\mathbf{A}$ is not a parameter, we have to go through it in order to get to the other parameters."
   ]
  },
  {
   "cell_type": "code",
   "execution_count": null,
   "metadata": {},
   "outputs": [],
   "source": [
    "def d_y_hat_wrt_a(w2: torch.Tensor) -> torch.Tensor:\n",
    "    \"\"\"\n",
    "    :returns: the derivative of the second linear function with respect to a.\n",
    "    \"\"\"\n",
    "    return w2.sum()"
   ]
  },
  {
   "attachments": {},
   "cell_type": "markdown",
   "metadata": {},
   "source": [
    "$\\mathbf{A}$ was the output of the nonlinear function, i.e. ReLU. Although in pure math, ReLU is not differentiable, we treat its derivative as 1 if its input is greater than 0 and 0 otherwise."
   ]
  },
  {
   "cell_type": "code",
   "execution_count": null,
   "metadata": {},
   "outputs": [],
   "source": [
    "def d_a_wrt_z(z: torch.Tensor) -> torch.Tensor:\n",
    "    \"\"\"\n",
    "    :param z: the output of the first linear function\n",
    "    :returns: the derivative of ReLU with respect to z\n",
    "    \"\"\"\n",
    "    return z > 0 # this is a boolean tensor  "
   ]
  },
  {
   "cell_type": "code",
   "execution_count": null,
   "metadata": {},
   "outputs": [],
   "source": [
    "# base64.b64decode(b'cmV0dXJuIHogPiAw').decode()"
   ]
  },
  {
   "attachments": {},
   "cell_type": "markdown",
   "metadata": {},
   "source": [
    "From $\\mathbf{Z}$, we can see $\\mathbf{W_1}$ and $\\mathbf{B_1}$."
   ]
  },
  {
   "cell_type": "code",
   "execution_count": null,
   "metadata": {},
   "outputs": [],
   "source": [
    "def d_z_wrt_w1(x: torch.Tensor) -> torch.Tensor:\n",
    "    \"\"\"\n",
    "    :param x: input examples\n",
    "    :returns: the derivative of the first linear function with respect to w1\n",
    "    \"\"\"\n",
    "    return x.mean()"
   ]
  },
  {
   "cell_type": "code",
   "execution_count": null,
   "metadata": {},
   "outputs": [],
   "source": [
    "def d_z_wrt_b1() -> torch.Tensor:\n",
    "    \"\"\"\n",
    "    :param x: input examples\n",
    "    :returns: the derivative of the first linear function with respect to b1\n",
    "    \"\"\"\n",
    "    return 1\n",
    "\n",
    "# if you want the derivate of anything respect of sth, you want to cast it (the shape)n of that sth "
   ]
  },
  {
   "attachments": {},
   "cell_type": "markdown",
   "metadata": {},
   "source": [
    "With this information, we can repeatedly update\n",
    "* $\\mathbf{W_2} \\gets \\mathbf{W_2} - \\lambda \\nabla_{\\mathbf{W_2}} L$\n",
    "* $\\mathbf{B_2} \\gets \\mathbf{B_2} - \\lambda \\nabla_{\\mathbf{B_2}} L$\n",
    "* $\\mathbf{W_1} \\gets \\mathbf{W_1} - \\lambda \\nabla_{\\mathbf{W_1}} L$\n",
    "* $\\mathbf{B_1} \\gets \\mathbf{B_1} - \\lambda \\nabla_{\\mathbf{B_1}} L$\n",
    "\n",
    "\n",
    "until we approach the capability of $\\hat{f}$ to approximate $f$. This update size is controlled by a usually small learning rate $\\lambda$ that gets smaller over time. Here, we'll just keep it constant."
   ]
  },
  {
   "attachments": {},
   "cell_type": "markdown",
   "metadata": {},
   "source": [
    "In the following function, fill in these gradients.\n",
    "* $\\nabla_{\\mathbf{W_2}} L$\n",
    "* $\\nabla_{\\mathbf{B_2}} L$\n",
    "* $\\nabla_{\\mathbf{W_1}} L$\n",
    "* $\\nabla_{\\mathbf{B_1}} L$"
   ]
  },
  {
   "cell_type": "code",
   "execution_count": null,
   "metadata": {},
   "outputs": [],
   "source": [
    "LEARNING_RATE = 0.0001\n",
    "\n",
    "def update_parameters(z: torch.Tensor,\n",
    "                      a: torch.Tensor,\n",
    "                      y_hat: torch.Tensor,\n",
    "                      y: torch.Tensor,\n",
    "                      w1: torch.Tensor,\n",
    "                      b1: torch.Tensor,\n",
    "                      w2: torch.Tensor,\n",
    "                      b2: torch.Tensor) -> tuple[torch.Tensor, ...]:\n",
    "    \"\"\"\n",
    "    Update the parameters by nudging them against the gradient of the loss with respect to the parameters.\n",
    "    \"\"\"\n",
    "\n",
    "    d_loss_wrt_w2 = (d_loss_wrt_y_hat(y_hat, y) * d_y_hat_wrt_w2(a)).mean(0)\n",
    "    d_loss_wrt_b2 = (d_loss_wrt_y_hat(y_hat, y) * d_y_hat_wrt_b2()).mean(0)\n",
    "    d_loss_wrt_w1 = (d_loss_wrt_y_hat(y_hat, y) * d_y_hat_wrt_a(w2) * d_a_wrt_z(z) * d_z_wrt_w1(x)).mean(0)\n",
    "    d_loss_wrt_b1 = (d_loss_wrt_y_hat(y_hat, y) * d_y_hat_wrt_a(w2) * d_a_wrt_z(z) * d_z_wrt_b1()).mean(0)\n",
    "\n",
    "    w2 -= LEARNING_RATE * d_loss_wrt_w2[:, None]\n",
    "    b2 -= LEARNING_RATE * d_loss_wrt_b2\n",
    "    w1 -= LEARNING_RATE * d_loss_wrt_w1[None, :]\n",
    "    b1 -= LEARNING_RATE * d_loss_wrt_b1\n",
    "\n",
    "    return w1, b1, w2, b2\n",
    "\n",
    "# IMPORT TENSORBOARD"
   ]
  },
  {
   "attachments": {},
   "cell_type": "markdown",
   "metadata": {},
   "source": [
    "Uncomment the following cell for a hint."
   ]
  },
  {
   "cell_type": "code",
   "execution_count": 4,
   "metadata": {},
   "outputs": [
    {
     "data": {
      "text/plain": [
       "'Use the chain rule.'"
      ]
     },
     "execution_count": 4,
     "metadata": {},
     "output_type": "execute_result"
    }
   ],
   "source": [
    "base64.b64decode(b'VXNlIHRoZSBjaGFpbiBydWxlLg==').decode()"
   ]
  },
  {
   "attachments": {},
   "cell_type": "markdown",
   "metadata": {},
   "source": [
    "Another hint:"
   ]
  },
  {
   "cell_type": "code",
   "execution_count": null,
   "metadata": {},
   "outputs": [],
   "source": [
    "# base64.b64decode(b'VGhlIGRlcml2YXRpdmUgb2YgYSBtZWFuIGlzIHRoZSBtZWFuIGRlcml2YXRpdmUu').decode()"
   ]
  },
  {
   "attachments": {},
   "cell_type": "markdown",
   "metadata": {},
   "source": [
    "Solutions:"
   ]
  },
  {
   "cell_type": "code",
   "execution_count": 5,
   "metadata": {},
   "outputs": [
    {
     "name": "stdout",
     "output_type": "stream",
     "text": [
      "\n",
      "d_loss_wrt_w2 = (d_loss_wrt_y_hat(y_hat, y) * d_y_hat_wrt_w2(a)).mean(0)\n",
      "d_loss_wrt_b2 = (d_loss_wrt_y_hat(y_hat, y) * d_y_hat_wrt_b2()).mean(0)\n",
      "d_loss_wrt_w1 = (d_loss_wrt_y_hat(y_hat, y) * d_y_hat_wrt_a(w2) * d_a_wrt_z(z) * d_z_wrt_w1(x)).mean(0)\n",
      "d_loss_wrt_b1 = (d_loss_wrt_y_hat(y_hat, y) * d_y_hat_wrt_a(w2) * d_a_wrt_z(z) * d_z_wrt_b1()).mean(0)\n",
      "\n"
     ]
    }
   ],
   "source": [
    " print(base64.b64decode(b'CmRfbG9zc193cnRfdzIgPSAoZF9sb3NzX3dydF95X2hhdCh5X2hhdCwgeSkgKiBkX3lfaGF0X3dydF93MihhKSkubWVhbigwKQpkX2xvc3Nfd3J0X2IyID0gKGRfbG9zc193cnRfeV9oYXQoeV9oYXQsIHkpICogZF95X2hhdF93cnRfYjIoKSkubWVhbigwKQpkX2xvc3Nfd3J0X3cxID0gKGRfbG9zc193cnRfeV9oYXQoeV9oYXQsIHkpICogZF95X2hhdF93cnRfYSh3MikgKiBkX2Ffd3J0X3ooeikgKiBkX3pfd3J0X3cxKHgpKS5tZWFuKDApCmRfbG9zc193cnRfYjEgPSAoZF9sb3NzX3dydF95X2hhdCh5X2hhdCwgeSkgKiBkX3lfaGF0X3dydF9hKHcyKSAqIGRfYV93cnRfeih6KSAqIGRfel93cnRfYjEoKSkubWVhbigwKQo=').decode())"
   ]
  },
  {
   "attachments": {},
   "cell_type": "markdown",
   "metadata": {},
   "source": [
    "Now we can write the gradient descent function. We will first initialize the parameters: the $\\mathbf{W}$ s randomly and the $\\mathbf{B}$ s to $\\mathbf{0}$. Then start a loop for a number of iterations, called *epochs*, which is often decided beforehand, applying the updates to these parameters after each epoch."
   ]
  },
  {
   "cell_type": "code",
   "execution_count": null,
   "metadata": {},
   "outputs": [],
   "source": [
    "N_EPOCHS = 50000\n",
    "N_HIDDEN_UNITS = 4\n",
    "\n",
    "w1 = torch.randn(1, N_HIDDEN_UNITS)\n",
    "b1 = torch.zeros(N_HIDDEN_UNITS)\n",
    "w2 = torch.randn(N_HIDDEN_UNITS, 1)\n",
    "b2 = torch.zeros(1)\n",
    "\n",
    "def gradient_descent(w1: torch.Tensor, \n",
    "                     b1: torch.Tensor, \n",
    "                     w2: torch.Tensor, \n",
    "                     b2: torch.Tensor) -> tuple[torch.Tensor, torch.Tensor, torch.Tensor, torch.Tensor]:\n",
    "    \"\"\"\n",
    "    Optimize parameters through gradient descent.\n",
    "    \"\"\"\n",
    "    \n",
    "    for _ in (progress_bar := tqdm.tqdm(range(N_EPOCHS), desc=\"training\")):\n",
    "        z, a, y_hat = f_hat(x, w1, b1, w2, b2)\n",
    "        w1, b1, w2, b2 = update_parameters(z, a, y_hat, y, w1, b1, w2, b2)\n",
    "        progress_bar.set_postfix_str(f\"loss: {loss(y_hat, y)}\")\n",
    "\n",
    "    return w1, b1, w2, b2"
   ]
  },
  {
   "attachments": {},
   "cell_type": "markdown",
   "metadata": {},
   "source": [
    "With just random parameters, $\\hat{f}$ shouldn't be good at approximating $f$."
   ]
  },
  {
   "cell_type": "code",
   "execution_count": null,
   "metadata": {},
   "outputs": [],
   "source": [
    "plt.clf()\n",
    "plt.scatter(x.cpu().numpy(), y)\n",
    "plt.plot(x.cpu().numpy(), \n",
    "         f_hat(x, w1, b1, w2, b2)[2].cpu().numpy(), \n",
    "         color=\"red\", \n",
    "         label=\"random parameters\")\n",
    "plt.legend()\n",
    "plt.show()"
   ]
  },
  {
   "cell_type": "code",
   "execution_count": null,
   "metadata": {},
   "outputs": [],
   "source": [
    "w1, b1, w2, b2 = gradient_descent(w1, b1, w2, b2)"
   ]
  },
  {
   "cell_type": "code",
   "execution_count": null,
   "metadata": {},
   "outputs": [],
   "source": [
    "plt.clf()\n",
    "plt.scatter(x.cpu().numpy(), y)\n",
    "plt.plot(x.cpu().numpy(), \n",
    "         f_hat(x, w1, b1, w2, b2)[2].cpu().numpy(), \n",
    "         color=\"red\", \n",
    "         label=\"trained parameters\")\n",
    "plt.legend()\n",
    "plt.show()"
   ]
  },
  {
   "attachments": {},
   "cell_type": "markdown",
   "metadata": {},
   "source": [
    "# Stochastic gradient descent"
   ]
  },
  {
   "attachments": {},
   "cell_type": "markdown",
   "metadata": {},
   "source": [
    "Stochastic gradient descent (SGD) is just gradient descent, but instead of updating parameters after looking at all examples, you update them after looking at a smaller batch of them, called a minibatch, or just a batch. This may be necessary when all training data can't fit into your memory. An epoch is counted when you look at all examples once.\n",
    "\n",
    "Suppose we use minibatches of size 32."
   ]
  },
  {
   "cell_type": "code",
   "execution_count": null,
   "metadata": {},
   "outputs": [],
   "source": [
    "BATCH_SIZE = 32"
   ]
  },
  {
   "attachments": {},
   "cell_type": "markdown",
   "metadata": {},
   "source": [
    "When training with SGD, you should shuffle your training data, just in case there's some order to them that would cause weird training behavior. The PyTorch way to do this is to create a PyTorch `Dataset` out of the data, and load it into your training loop with a `DataLoader`, which takes care of shuffling it every epoch."
   ]
  },
  {
   "cell_type": "code",
   "execution_count": null,
   "metadata": {},
   "outputs": [],
   "source": [
    "dataloader = data.DataLoader(data.TensorDataset(x, y), batch_size=BATCH_SIZE, shuffle=True)"
   ]
  },
  {
   "cell_type": "code",
   "execution_count": null,
   "metadata": {},
   "outputs": [],
   "source": [
    "def stochastic_gradient_descent(\n",
    "        w1: torch.Tensor, \n",
    "        b1: torch.Tensor, \n",
    "        w2: torch.Tensor, \n",
    "        b2: torch.Tensor\n",
    "    ) -> tuple[torch.Tensor, torch.Tensor, torch.Tensor, torch.Tensor]:\n",
    "    \"\"\"\n",
    "    Optimize parameters through stochastic gradient descent.\n",
    "    \"\"\"\n",
    "    for _ in (progress_bar := tqdm.tqdm(range(N_EPOCHS), desc=\"training\")):\n",
    "        for x, y in dataloader:\n",
    "            z, a, y_hat = f_hat(x, w1, b1, w2, b2)\n",
    "            w1, b1, w2, b2 = update_parameters(z, a, y_hat, y, w1, b1, w2, b2)\n",
    "            progress_bar.set_postfix_str(f\"minibatch loss: {loss(y_hat, y)}\")\n",
    "\n",
    "    return w1, b1, w2, b2"
   ]
  },
  {
   "attachments": {},
   "cell_type": "markdown",
   "metadata": {},
   "source": [
    "Let's reinitialize the parameters and try it out."
   ]
  },
  {
   "cell_type": "code",
   "execution_count": null,
   "metadata": {},
   "outputs": [],
   "source": [
    "w1 = torch.randn(1, N_HIDDEN_UNITS)\n",
    "b1 = torch.zeros(N_HIDDEN_UNITS)\n",
    "w2 = torch.randn(N_HIDDEN_UNITS, 1)\n",
    "b2 = torch.zeros(1)\n",
    "\n",
    "w1, b1, w2, b2 = stochastic_gradient_descent(w1, b1, w2, b2)"
   ]
  },
  {
   "cell_type": "code",
   "execution_count": null,
   "metadata": {},
   "outputs": [],
   "source": [
    "plt.clf()\n",
    "plt.scatter(x.cpu().numpy(), y)\n",
    "plt.plot(x.cpu().numpy(), \n",
    "         f_hat(x, w1, b1, w2, b2)[2].cpu().numpy(), \n",
    "         color=\"red\", \n",
    "         label=\"trained parameters\")\n",
    "plt.legend()\n",
    "plt.show()"
   ]
  }
 ],
 "metadata": {
  "kernelspec": {
   "display_name": "zugzwang",
   "language": "python",
   "name": "python3"
  },
  "language_info": {
   "codemirror_mode": {
    "name": "ipython",
    "version": 3
   },
   "file_extension": ".py",
   "mimetype": "text/x-python",
   "name": "python",
   "nbconvert_exporter": "python",
   "pygments_lexer": "ipython3",
   "version": "3.11.3"
  }
 },
 "nbformat": 4,
 "nbformat_minor": 4
}
