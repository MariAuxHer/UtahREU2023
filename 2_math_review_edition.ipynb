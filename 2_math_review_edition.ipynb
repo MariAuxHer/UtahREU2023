{
 "cells": [
  {
   "cell_type": "code",
   "execution_count": 1,
   "id": "cdcfa311",
   "metadata": {},
   "outputs": [],
   "source": [
    "import base64"
   ]
  },
  {
   "cell_type": "markdown",
   "id": "05bd6e4f",
   "metadata": {},
   "source": [
    "# Derivatives"
   ]
  },
  {
   "cell_type": "markdown",
   "id": "8bfbd7a6",
   "metadata": {},
   "source": [
    "A derivative is a rate of change. We often speak of derivatives of things with respect to other things. In machine learning, you will often hear derivatives referred to as gradients. They mean the same thing."
   ]
  },
  {
   "cell_type": "markdown",
   "id": "c82a142b",
   "metadata": {},
   "source": [
    "Let's say $x$ is a real number. Consider the following function $f$."
   ]
  },
  {
   "cell_type": "markdown",
   "id": "d94aa23c",
   "metadata": {},
   "source": [
    "$f(x) = 2x$"
   ]
  },
  {
   "cell_type": "markdown",
   "id": "50529d2a",
   "metadata": {},
   "source": [
    "As $x$ changes, $f(x)$ changes by twice that mucn, so we can say that the derivative of $f(x)$ with respect to $x$ is 2."
   ]
  },
  {
   "cell_type": "markdown",
   "id": "7f3db9a3",
   "metadata": {},
   "source": [
    "Consider this function $z$."
   ]
  },
  {
   "cell_type": "markdown",
   "id": "95e8b412",
   "metadata": {},
   "source": [
    "$z(x, w, b) = wx + b$"
   ]
  },
  {
   "cell_type": "markdown",
   "id": "a5f78d93",
   "metadata": {},
   "source": [
    "What is the derivative of $z(x, w, b)$ with respect to $w$? Fill in your answer as a string (`str`) in the following cell."
   ]
  },
  {
   "cell_type": "code",
   "execution_count": 2,
   "id": "81cf02b4",
   "metadata": {},
   "outputs": [
    {
     "data": {
      "text/plain": [
       "True"
      ]
     },
     "execution_count": 2,
     "metadata": {},
     "output_type": "execute_result"
    }
   ],
   "source": [
    "answer = \"x\"  # <- Put your answer here!\n",
    "base64.b64encode(answer.encode()) == b'eA=='"
   ]
  },
  {
   "cell_type": "markdown",
   "id": "9496717a",
   "metadata": {},
   "source": [
    "Because people are lazy, they may just say $z$ instead of $z(x, w, b)$ to refer to the output of $z$.\n",
    "\n",
    "I will do that here. What is the derivative of $z$ with respect to $x$?"
   ]
  },
  {
   "cell_type": "code",
   "execution_count": 3,
   "id": "aa22d61a",
   "metadata": {},
   "outputs": [
    {
     "data": {
      "text/plain": [
       "True"
      ]
     },
     "execution_count": 3,
     "metadata": {},
     "output_type": "execute_result"
    }
   ],
   "source": [
    "answer = \"w\"\n",
    "base64.b64encode(answer.encode()) == b'dw=='"
   ]
  },
  {
   "cell_type": "markdown",
   "id": "21c110c1",
   "metadata": {},
   "source": [
    "There are many ways of notating derivatives in math. All these mean the same thing.\n",
    "> the derivative of $z$ with respect to $b$\n",
    "\n",
    "> $\\dfrac{\\partial z}{\\partial b}$\n",
    "\n",
    "> $D_b z$\n",
    "\n",
    "> $\\nabla_b z$\n",
    "\n",
    "What is $\\nabla_b z$?"
   ]
  },
  {
   "cell_type": "code",
   "execution_count": 7,
   "id": "f229b0a0",
   "metadata": {},
   "outputs": [
    {
     "data": {
      "text/plain": [
       "True"
      ]
     },
     "execution_count": 7,
     "metadata": {},
     "output_type": "execute_result"
    }
   ],
   "source": [
    "answer = \"1\"\n",
    "base64.b64encode(answer.encode()) == b'MQ=='"
   ]
  },
  {
   "cell_type": "code",
   "execution_count": 5,
   "id": "737a6cfe",
   "metadata": {},
   "outputs": [
    {
     "name": "stdout",
     "output_type": "stream",
     "text": [
      "How much does z change if you add 1 to b?\n"
     ]
    }
   ],
   "source": [
    "hint = True # <- Change this to True to see a hint!\n",
    "if hint:\n",
    "   print(base64.b64decode(b'SG93IG11Y2ggZG9lcyB6IGNoYW5nZSBpZiB5b3UgYWRkIDEgdG8gYj8=').decode())"
   ]
  },
  {
   "cell_type": "markdown",
   "id": "6575bce8",
   "metadata": {},
   "source": [
    "## The power rule"
   ]
  },
  {
   "cell_type": "markdown",
   "id": "91155784",
   "metadata": {},
   "source": [
    "This trick might come in handy.\n",
    "> The derivative of $x^p$ with respect to $x$ is $px^{p-1}$.\n",
    "\n",
    "Using notation from before,\n",
    "> $\\nabla_x x^p = px^{p-1}$\n",
    "\n",
    "Using different notation,\n",
    "> $\\dfrac{\\partial x^p}{\\partial x} = px^{p-1}$"
   ]
  },
  {
   "cell_type": "markdown",
   "id": "ba5abe4c",
   "metadata": {},
   "source": [
    "What's $\\nabla_x \\; 5x + 4x^2 + 3x^3$?"
   ]
  },
  {
   "cell_type": "code",
   "execution_count": 8,
   "id": "06a9eb4b",
   "metadata": {},
   "outputs": [
    {
     "data": {
      "text/plain": [
       "True"
      ]
     },
     "execution_count": 8,
     "metadata": {},
     "output_type": "execute_result"
    }
   ],
   "source": [
    "answer = \"5 + 8x + 9x^2\"  # <- Replace the underscores!\n",
    "base64.b64encode(answer.encode()) == b'NSArIDh4ICsgOXheMg=='"
   ]
  },
  {
   "cell_type": "markdown",
   "id": "4d6d122f",
   "metadata": {},
   "source": [
    "## The chain rule"
   ]
  },
  {
   "cell_type": "markdown",
   "id": "702aa64c",
   "metadata": {},
   "source": [
    "The chain rule helps you determine derivatives of functions inside functions. The rule states that if you have two functions $f$ and $g$, and you compose them into a function $g(f(x))$, then\n",
    "\n",
    "> $\\nabla_x g = \\nabla_{f} g \\nabla_x f$\n",
    "\n",
    "Here it is again using different notation.\n",
    "\n",
    "> $\\dfrac{\\partial g}{\\partial x} = \\dfrac{\\partial g}{\\partial f} \\dfrac{\\partial f}{\\partial x}$\n",
    "\n"
   ]
  },
  {
   "cell_type": "markdown",
   "id": "bab011e5",
   "metadata": {},
   "source": [
    "Let's say we have these two functions:\n",
    "\n",
    "$f (x) = 2x + 3$\n",
    "\n",
    "$g (x) = 3 f(x) - 1$"
   ]
  },
  {
   "cell_type": "markdown",
   "id": "8c51a3d1",
   "metadata": {},
   "source": [
    "What is $\\nabla_{x} g$?"
   ]
  },
  {
   "cell_type": "code",
   "execution_count": 9,
   "id": "d883b0ff",
   "metadata": {},
   "outputs": [
    {
     "data": {
      "text/plain": [
       "True"
      ]
     },
     "execution_count": 9,
     "metadata": {},
     "output_type": "execute_result"
    }
   ],
   "source": [
    "answer = \"6\"\n",
    "base64.b64encode(answer.encode()) == b'Ng==' # You are encoding the string literal 6 in base64 and then comparing it with Ng==' whoch is the base64 representation of 6"
   ]
  },
  {
   "cell_type": "markdown",
   "id": "ec3eda59",
   "metadata": {},
   "source": [
    "## The average derivative"
   ]
  },
  {
   "cell_type": "markdown",
   "id": "56e89ed0",
   "metadata": {},
   "source": [
    "Consider again $z(x, w, b) = wx + b$. Let's evaluate $z$ using some $w$, some $b$ and a bunch of different $x$s, let's say $n$ of them, so that $x$ is the tuple $(x_1, x_2, x_3, \\dots, x_n)$."
   ]
  },
  {
   "cell_type": "markdown",
   "id": "4e0af590",
   "metadata": {},
   "source": [
    "Then, what is the average of $\\nabla_w z$ over all of $x$? Said differently, what is $\\dfrac{\\sum_{i=1}^{n} \\nabla_w z(x_i, w, b)}{n}$?"
   ]
  },
  {
   "cell_type": "code",
   "execution_count": 10,
   "id": "9abebe31",
   "metadata": {},
   "outputs": [
    {
     "data": {
      "text/plain": [
       "True"
      ]
     },
     "execution_count": 10,
     "metadata": {},
     "output_type": "execute_result"
    }
   ],
   "source": [
    "answer = \"the sum of x divided by n\"  # <- Replace the underscores!\n",
    "base64.b64encode(answer.encode()) == b'dGhlIHN1bSBvZiB4IGRpdmlkZWQgYnkgbg=='"
   ]
  },
  {
   "cell_type": "markdown",
   "id": "c182c9fb",
   "metadata": {},
   "source": [
    "Uncomment the following cell to see a hint."
   ]
  },
  {
   "cell_type": "code",
   "execution_count": 11,
   "id": "ed401486",
   "metadata": {},
   "outputs": [
    {
     "name": "stdout",
     "output_type": "stream",
     "text": [
      "How much does z change if you add 1 to b?\n"
     ]
    }
   ],
   "source": [
    "print(base64.b64decode(b'SG93IG11Y2ggZG9lcyB6IGNoYW5nZSBpZiB5b3UgYWRkIDEgdG8gYj8=').decode())"
   ]
  },
  {
   "cell_type": "markdown",
   "id": "89379156",
   "metadata": {},
   "source": [
    "Another hint."
   ]
  },
  {
   "cell_type": "code",
   "execution_count": 12,
   "id": "9d680af8",
   "metadata": {},
   "outputs": [
    {
     "name": "stdout",
     "output_type": "stream",
     "text": [
      "The derivative of a sum is the sum of the derivatives of each item.\n"
     ]
    }
   ],
   "source": [
    "print(base64.b64decode(b'VGhlIGRlcml2YXRpdmUgb2YgYSBzdW0gaXMgdGhlIHN1bSBvZiB0aGUgZGVyaXZhdGl2ZXMgb2YgZWFjaCBpdGVtLg==').decode())"
   ]
  },
  {
   "cell_type": "markdown",
   "id": "e4eaac58",
   "metadata": {},
   "source": [
    "# Basic linear algebra operations"
   ]
  },
  {
   "cell_type": "markdown",
   "id": "970da1e3",
   "metadata": {},
   "source": [
    "## Vector addition"
   ]
  },
  {
   "cell_type": "markdown",
   "id": "0f004bf2",
   "metadata": {},
   "source": [
    "Vectors are elements of a vector space. In order to be a vector, you have to be able to add two of them together and get a vector in the same space. Let's say we have a tuple of four real numbers. Let's name it $\\mathbf{x}$.\n",
    "\n",
    "$\\mathbf{x} = \\begin{bmatrix} 2 \\\\ 0 \\\\ 2 \\\\ 3 \\end{bmatrix}$\n",
    "\n",
    "All of the following statements mean the same thing.\n",
    "> $\\mathbf{x}$ is an element of the set of all tuples of four real numbers. \n",
    "\n",
    "> $\\mathbf{x}$ is an element in the Cartesian product of four real number spaces.\n",
    "\n",
    "> $\\mathbf{x} \\in \\mathbb{R}^4$.\n",
    "\n",
    "Let's make another vector in $\\mathbb{R}^4$ and call it $\\mathbf{y}$.\n",
    "\n",
    "$\\mathbf{y} = \\begin{bmatrix} -1 \\\\ 3 \\\\ 3 \\\\ 7 \\end{bmatrix}$\n",
    "\n",
    "We can add $\\mathbf{x}$ and $\\mathbf{y}$ together and get another vector in $\\mathbb{R}^4$. To do so, we add corresponding elements.\n",
    "\n",
    "$\\mathbf{x} + \\mathbf{y} = \\begin{bmatrix} 2 \\\\ 0 \\\\ 2 \\\\ 3 \\end{bmatrix} + \\begin{bmatrix} -1 \\\\ 3 \\\\ 3 \\\\ 7 \\end{bmatrix} = \\begin{bmatrix} 2-1 \\\\ 0+3 \\\\ 2+3 \\\\ 3+7 \\end{bmatrix} = \\begin{bmatrix} 1 \\\\ 3 \\\\ 5 \\\\ 10 \\end{bmatrix}$\n",
    "\n",
    "What's $\\mathbf{y} + \\mathbf{y}$?"
   ]
  },
  {
   "cell_type": "code",
   "execution_count": 13,
   "id": "fa5bbc08",
   "metadata": {},
   "outputs": [
    {
     "data": {
      "text/plain": [
       "True"
      ]
     },
     "execution_count": 13,
     "metadata": {},
     "output_type": "execute_result"
    }
   ],
   "source": [
    "answer = (-2,\n",
    "          6,\n",
    "          6,\n",
    "          14)  # <- Replace the underscores!\n",
    "base64.b64encode(str(answer).encode()) == b'KC0yLCA2LCA2LCAxNCk='"
   ]
  },
  {
   "cell_type": "markdown",
   "id": "d22f6863",
   "metadata": {},
   "source": [
    "## Vector multiplication\n",
    "\n",
    "Another thing you can do with vectors is multiply them by a scalar, and still end up with a vector in the same space. To do this, just multiply each element of the vector by the scalar.\n",
    "\n",
    "What's $-2 \\mathbf{x}$?"
   ]
  },
  {
   "cell_type": "code",
   "execution_count": 15,
   "id": "e2da6d7b",
   "metadata": {},
   "outputs": [
    {
     "data": {
      "text/plain": [
       "True"
      ]
     },
     "execution_count": 15,
     "metadata": {},
     "output_type": "execute_result"
    }
   ],
   "source": [
    "answer = (-4,\n",
    "          0,\n",
    "          -4,\n",
    "          -6)\n",
    "base64.b64encode(str(answer).encode()) == b'KC00LCAwLCAtNCwgLTYp'"
   ]
  },
  {
   "cell_type": "markdown",
   "id": "c2a25a07",
   "metadata": {},
   "source": [
    "Vectors have other features.\n",
    "> If you subtract a vector from itself (through multiplying one of them by -1 and vector addition), you will get a zero vector $\\mathbf{0}$ in the same space.\n",
    "\n",
    "> If you add $\\mathbf{0}$ to any vector, you get the same vector.\n",
    "\n",
    "> If you multiply a vector by 1, you get the same vector."
   ]
  },
  {
   "cell_type": "markdown",
   "id": "9ca48097",
   "metadata": {},
   "source": [
    "# Matrix addition"
   ]
  },
  {
   "cell_type": "markdown",
   "id": "92ade0be",
   "metadata": {},
   "source": [
    "Matrices are tuples of vectors. Using column vectors, as we have so far, the vectors are shown next to each other horizontally. Let's put $\\mathbf{x}$ and $\\mathbf{y}$ from before in a matrix. We'll end up with\n",
    "\n",
    "\n",
    "$\\begin{bmatrix} 2 & -1 \\\\ 0 & 3 \\\\ 2 & 3 \\\\ 3 & 7 \\end{bmatrix}$"
   ]
  },
  {
   "cell_type": "markdown",
   "id": "c631b413",
   "metadata": {},
   "source": [
    "Matrix addition is like vector addition: just add the corresponding elements to each other."
   ]
  },
  {
   "cell_type": "markdown",
   "id": "a4ca3ad8",
   "metadata": {},
   "source": [
    "What's $\\begin{bmatrix} 2 & -1 \\\\ 0 & 3 \\end{bmatrix} + \\begin{bmatrix} 2 & 3 \\\\ 3 & 7 \\end{bmatrix}$ ?"
   ]
  },
  {
   "cell_type": "code",
   "execution_count": 16,
   "id": "8433f348",
   "metadata": {},
   "outputs": [
    {
     "data": {
      "text/plain": [
       "True"
      ]
     },
     "execution_count": 16,
     "metadata": {},
     "output_type": "execute_result"
    }
   ],
   "source": [
    "answer = ((4, 2),\n",
    "          (3, 10))\n",
    "base64.b64encode(str(answer).encode()) == b'KCg0LCAyKSwgKDMsIDEwKSk='"
   ]
  },
  {
   "cell_type": "markdown",
   "id": "8695b552",
   "metadata": {},
   "source": [
    "## Matrix multiplication\n",
    "\n",
    "There are at least these kinds of matrix multiplication:\n",
    "* Multiplication by a matrix (what matrix multiplication usually means)\n",
    "* Multiplication by a scalar.\n",
    "* Element-wise multiplication (also called Hadamard product)"
   ]
  },
  {
   "cell_type": "markdown",
   "id": "1a44334a",
   "metadata": {},
   "source": [
    "### Multiplication by a scalar\n",
    "\n",
    "Multiplication by a scalar is simple: just multiply all elements by that scalar.\n",
    "\n",
    "What's $\\; 2\\begin{bmatrix} 2 & -1 \\\\ 0 & 3 \\end{bmatrix} \\;$?"
   ]
  },
  {
   "cell_type": "code",
   "execution_count": 17,
   "id": "e6571573",
   "metadata": {},
   "outputs": [
    {
     "data": {
      "text/plain": [
       "True"
      ]
     },
     "execution_count": 17,
     "metadata": {},
     "output_type": "execute_result"
    }
   ],
   "source": [
    "answer = ((4, -2),\n",
    "          (0, 6))\n",
    "base64.b64encode(str(answer).encode()) == b'KCg0LCAtMiksICgwLCA2KSk='"
   ]
  },
  {
   "cell_type": "markdown",
   "id": "d06fb89f",
   "metadata": {},
   "source": [
    "### Multiplication by a matrix\n",
    "\n",
    "Multiplication by a matrix is a bit more complex. You have to multiply the rows of the first matrix with the columns of the second matrix element-wise, sum them together, and arrange the result in a matrix accordingly. Let's start with a simple case: Let matrix $\\mathbf{A}$ have one row and matrix $\\mathbf{B}$ have one column."
   ]
  },
  {
   "cell_type": "markdown",
   "id": "2090be33",
   "metadata": {},
   "source": [
    "$\\mathbf{A} = \\begin{bmatrix} a_1 & a_2 & a_3 \\end{bmatrix}, \\quad \\mathbf{B} = \\begin{bmatrix} b_1 \\\\ b_2 \\\\ b_3\\end{bmatrix}$"
   ]
  },
  {
   "cell_type": "markdown",
   "id": "5e29398f",
   "metadata": {},
   "source": [
    "The product $\\mathbf{AB}$ is a matrix whose only element is the sum of the element-wise product of this row and column.\n",
    "\n",
    "$\\mathbf{AB} = \\begin{bmatrix} a_1 b_1 + a_2 b_2 + a_3 b_3 \\end{bmatrix}$.\n",
    "\n",
    "Now let's add another row to $\\mathbf{A}$, such that\n",
    "\n",
    "$\\mathbf{A} = \\begin{bmatrix} a_{1,1} & a_{1,2} & a_{1,3} \\\\\n",
    "                              a_{2,1} & a_{2,2} & a_{2,3} \\end{bmatrix}$"
   ]
  },
  {
   "cell_type": "markdown",
   "id": "b1da105f",
   "metadata": {},
   "source": [
    "Now $\\mathbf{AB}$ has two rows: one for each row of $\\mathbf{A}$.\n",
    "\n",
    "$\\mathbf{AB} = \\begin{bmatrix} a_{1,1} b_1 + a_{1,2} b_2 + a_{1,3} b_3 \\\\\n",
    "                               a_{2,1} b_1 + a_{2,2} b_2 + a_{2,3} b_3 \\end{bmatrix}$."
   ]
  },
  {
   "cell_type": "markdown",
   "id": "e8ea48a5",
   "metadata": {},
   "source": [
    "What's $\\begin{bmatrix} 1 & 2 & 3 \\\\\n",
    "                        4 & 5 & 6 \\end{bmatrix} \n",
    "\\begin{bmatrix} -3 \\\\\n",
    "                -2 \\\\\n",
    "                -1 \\end{bmatrix}\\;$?"
   ]
  },
  {
   "cell_type": "code",
   "execution_count": 21,
   "id": "a929752a",
   "metadata": {},
   "outputs": [
    {
     "data": {
      "text/plain": [
       "True"
      ]
     },
     "execution_count": 21,
     "metadata": {},
     "output_type": "execute_result"
    }
   ],
   "source": [
    "answer = (-10,\n",
    "          -28)\n",
    "base64.b64encode(str(answer).encode()) == b'KC0xMCwgLTI4KQ=='"
   ]
  },
  {
   "cell_type": "markdown",
   "id": "fc313279",
   "metadata": {},
   "source": [
    "Now, let's add a row to $\\mathbf{B}$.\n",
    "\n",
    "$\\mathbf{A} = \\begin{bmatrix} a_{1,1} & a_{1,2} & a_{1,3} \\\\\n",
    "                              a_{2,1} & a_{2,2} & a_{2,3} \\end{bmatrix} \n",
    "\\quad \n",
    "\\mathbf{B} = \\begin{bmatrix} b_{1,1} & b_{1,2} \\\\\n",
    "                              b_{2,1} & b_{2,2} \\\\\n",
    "                              b_{3,1} & b_{3,2} \\end{bmatrix}$"
   ]
  },
  {
   "cell_type": "markdown",
   "id": "072c1a62",
   "metadata": {},
   "source": [
    "Now that $\\mathbf{B}$ as two columns, $\\mathbf{AB}$ has two columns. The first column is the same as before. The second column is $\\mathbf{A} \\begin{bmatrix} b_{1,2} \\\\\n",
    "                                      b_{2,2} \\\\\n",
    "                                      b_{3,2} \\end{bmatrix}$."
   ]
  },
  {
   "cell_type": "markdown",
   "id": "e5891f4b",
   "metadata": {},
   "source": [
    "Now what's $\\begin{bmatrix} 1 & 2 & 3 \\\\\n",
    "                        4 & 5 & 6 \\end{bmatrix} \n",
    "\\begin{bmatrix} -3 & 0 \\\\\n",
    "                -2 & 1 \\\\\n",
    "                -1 & 2 \\end{bmatrix}\\;$?"
   ]
  },
  {
   "cell_type": "code",
   "execution_count": 22,
   "id": "7529013c",
   "metadata": {},
   "outputs": [
    {
     "data": {
      "text/plain": [
       "True"
      ]
     },
     "execution_count": 22,
     "metadata": {},
     "output_type": "execute_result"
    }
   ],
   "source": [
    "answer = ((-10, 8),\n",
    "          (-28, 17))\n",
    "base64.b64encode(str(answer).encode()) == b'KCgtMTAsIDgpLCAoLTI4LCAxNykp'"
   ]
  },
  {
   "cell_type": "markdown",
   "id": "9384d941",
   "metadata": {},
   "source": [
    "Notice that in general $\\mathbf{AB} \\neq \\mathbf{BA}$."
   ]
  },
  {
   "cell_type": "markdown",
   "id": "2355c7f1",
   "metadata": {},
   "source": [
    "### Element-wise multiplication\n",
    "\n",
    "To do this, multiply the corresponding elements of two matrices.\n",
    "\n",
    "Be very careful when you talk about this; people can confuse this with matrix multiplication. I'll use the symbol $\\odot$ to mean element-wise multiplication.\n",
    "\n",
    "Let's say $\\mathbf{A} = \\begin{bmatrix} a_{1,1} & a_{1,2} \\\\\n",
    "                                        a_{2,1} & a_{2,2}  \\end{bmatrix}$\n",
    "and\n",
    "$\\mathbf{B} = \\begin{bmatrix} b_{1,1} & b_{1,2} \\\\\n",
    "                              b_{2,1} & b_{2,2} \\end{bmatrix}$.\n",
    "                              \n",
    "Then $\\mathbf{A} \\odot \\mathbf{B} = \n",
    "\\begin{bmatrix} a_{1,1} b_{1,1} & a_{1,2} b_{1,2} \\\\\n",
    "                a_{2,1} b_{2,1} & a_{2,2} b_{2,2} \\end{bmatrix}$."
   ]
  },
  {
   "cell_type": "markdown",
   "id": "d22f8684",
   "metadata": {},
   "source": [
    "## Broadcasting"
   ]
  },
  {
   "cell_type": "markdown",
   "id": "ae2f3bfd",
   "metadata": {},
   "source": [
    "Broadcasting is repeating matrix elements many times in order to make normally incompatible shapes compatible. Strict linear algebra doesn't allow this but broadcasting is common in machine learning, and is often implied in machine learning-related math notation."
   ]
  },
  {
   "cell_type": "markdown",
   "id": "301b88a0",
   "metadata": {},
   "source": [
    "I'll show you some things you can do with broadcasting. I'll use these things to demonstrate:\n",
    "* scalar $s$\n",
    "* vector $\\mathbf{v} = \\begin{bmatrix} v_1 \\\\\n",
    "                                       v_2 \\end{bmatrix}$\n",
    "* matrix $\\mathbf{M} = \\begin{bmatrix} m_{1,1} & m_{1,2} \\\\\n",
    "                              m_{2,1} & m_{2,2} \\end{bmatrix}$\n",
    "\n",
    "\n",
    "You can add a scalar to a matrix.\n",
    "\n",
    "$\\mathbf{M} + s = \\begin{bmatrix} m_{1,1} + s & m_{1,2} + s \\\\\n",
    "                                  m_{2,1} + s & m_{2,2} + s \\end{bmatrix}$\n",
    "\n",
    "Add a vector to a differently-shaped matrix.\n",
    "\n",
    "$\\mathbf{M} + \\mathbf{v} = \\begin{bmatrix} m_{1,1} + v_1 & m_{1,2} + v_1 \\\\\n",
    "                                           m_{2,1} + v_2 & m_{2,2} + v_2 \\end{bmatrix}$\n",
    "                                           \n",
    "You can multiply a matrix element-wise with a differently-shaped vector. \n",
    "\n",
    "$\\mathbf{M} \\odot \\mathbf{v} = \\begin{bmatrix} m_{1,1} v_1 & m_{1,2} v_1 \\\\\n",
    "                                               m_{2,1} v_2 & m_{2,2} v_2 \\end{bmatrix}$"
   ]
  },
  {
   "cell_type": "markdown",
   "id": "fe1afdd2",
   "metadata": {},
   "source": [
    "What's \n",
    "$\\begin{bmatrix} 1 & 3 \\end{bmatrix}\n",
    "\\odot\n",
    "\\begin{bmatrix} 2 & 4 \\\\\n",
    "                6 & 8 \\end{bmatrix}$?"
   ]
  },
  {
   "cell_type": "code",
   "execution_count": null,
   "id": "671ea5d9",
   "metadata": {},
   "outputs": [],
   "source": [
    "answer = ((_, _),\n",
    "          (_, _))\n",
    "if base64.b64encode(str(answer).encode()) in (b'KDIwLCAyOCk=', b'KCgyMCwpLCAoMjgsKSk='):\n",
    "    print(base64.b64decode(b'V3Jvbmcga2luZCBvZiBtYXRyaXggbXVsdGlwbGljYXRpb24u').decode())\n",
    "base64.b64encode(str(answer).encode()) == b'KCgyLCAxMiksICg2LCAyNCkp'"
   ]
  }
 ],
 "metadata": {
  "kernelspec": {
   "display_name": "Python 3 (ipykernel)",
   "language": "python",
   "name": "python3"
  },
  "language_info": {
   "codemirror_mode": {
    "name": "ipython",
    "version": 3
   },
   "file_extension": ".py",
   "mimetype": "text/x-python",
   "name": "python",
   "nbconvert_exporter": "python",
   "pygments_lexer": "ipython3",
   "version": "3.8.9"
  }
 },
 "nbformat": 4,
 "nbformat_minor": 5
}
